{
 "cells": [
  {
   "cell_type": "code",
   "execution_count": 1,
   "metadata": {},
   "outputs": [
    {
     "name": "stderr",
     "output_type": "stream",
     "text": [
      "c:\\Python311\\Lib\\site-packages\\torchvision\\datapoints\\__init__.py:12: UserWarning: The torchvision.datapoints and torchvision.transforms.v2 namespaces are still Beta. While we do not expect major breaking changes, some APIs may still change according to user feedback. Please submit any feedback you may have in this issue: https://github.com/pytorch/vision/issues/6753, and you can also check out https://github.com/pytorch/vision/issues/7319 to learn more about the APIs that we suspect might involve future changes. You can silence this warning by calling torchvision.disable_beta_transforms_warning().\n",
      "  warnings.warn(_BETA_TRANSFORMS_WARNING)\n",
      "c:\\Python311\\Lib\\site-packages\\torchvision\\transforms\\v2\\__init__.py:54: UserWarning: The torchvision.datapoints and torchvision.transforms.v2 namespaces are still Beta. While we do not expect major breaking changes, some APIs may still change according to user feedback. Please submit any feedback you may have in this issue: https://github.com/pytorch/vision/issues/6753, and you can also check out https://github.com/pytorch/vision/issues/7319 to learn more about the APIs that we suspect might involve future changes. You can silence this warning by calling torchvision.disable_beta_transforms_warning().\n",
      "  warnings.warn(_BETA_TRANSFORMS_WARNING)\n"
     ]
    },
    {
     "data": {
      "text/plain": [
       "<torch._C.Generator at 0x28061278c70>"
      ]
     },
     "execution_count": 1,
     "metadata": {},
     "output_type": "execute_result"
    }
   ],
   "source": [
    "import os, pathlib, shutil\n",
    "from collections import Counter\n",
    "from matplotlib import pyplot as plt\n",
    "from torch.utils.data import DataLoader, Subset\n",
    "from torchvision.transforms import v2\n",
    "import torch.nn as nn\n",
    "import numpy as np\n",
    "import torch\n",
    "from torch.profiler import profile, record_function, ProfilerActivity\n",
    "import train\n",
    "from torchvision.transforms import InterpolationMode\n",
    "from torchvision.datasets import ImageFolder\n",
    "\n",
    "src = \"\"\n",
    "if os.name == \"nt\":\n",
    "    src = \"D:/599DL4VProject/the_wildfire_dataset\"\n",
    "elif os.name == \"posix\":\n",
    "    src = \"/home/asromelo/Desktop/Projects/599_proj/the_wildfire_dataset/\"\n",
    "\n",
    "wf1TrainPath = pathlib.Path(src + '/train').resolve()\n",
    "wf1ValidPath = pathlib.Path(src + '/valid').resolve()\n",
    "wf1TestPath = pathlib.Path(src + '/test').resolve()\n",
    "device = torch.device(\"cuda\" if torch.cuda.is_available() else \"cpu\")\n",
    "cuda = True if torch.cuda.is_available() else False\n",
    "\n",
    "torch.backends.cudnn.deterministic = True\n",
    "torch.backends.cudnn.benchmark = False\n",
    "torch.jit.onednn_fusion_enabled = True\n",
    "torch.manual_seed(42)\n",
    "\n",
    "\n",
    "# Currently using Kaggle The Wildfire Dataset and FiSmo dataset\n",
    "# https://www.kaggle.com/datasets/utkarshsaxenadn/landscape-recognition-image-dataset-12k-images\n",
    "# https://www.kaggle.com/datasets/uciml/forest-cover-type-dataset\n",
    "\n",
    "# References\n",
    "# AE: http://ufldl.stanford.edu/tutorial/unsupervised/Autoencoders/\n",
    "# VAE: https://arxiv.org/pdf/1606.05908.pdf\n",
    "# ACAI: https://arxiv.org/pdf/1807.07543.pdf"
   ]
  },
  {
   "cell_type": "code",
   "execution_count": null,
   "metadata": {},
   "outputs": [
    {
     "name": "stderr",
     "output_type": "stream",
     "text": [
      "/nix/store/k7xkpa8lwkjanf79r0fj3bhviv4vqm8q-python3-3.10.13-env/lib/python3.10/site-packages/PIL/Image.py:3167: DecompressionBombWarning: Image size (104688771 pixels) exceeds limit of 89478485 pixels, could be decompression bomb DOS attack.\n",
      "  warnings.warn(\n",
      "/nix/store/k7xkpa8lwkjanf79r0fj3bhviv4vqm8q-python3-3.10.13-env/lib/python3.10/site-packages/PIL/Image.py:3167: DecompressionBombWarning: Image size (89747104 pixels) exceeds limit of 89478485 pixels, could be decompression bomb DOS attack.\n",
      "  warnings.warn(\n"
     ]
    }
   ],
   "source": [
    "from torchvision.utils import save_image\n",
    "# Run this once to pre-format the data for faster training\n",
    "\n",
    "boost = v2.Compose([\n",
    "    v2.ToImageTensor(),\n",
    "    v2.ConvertImageDtype(torch.uint8),\n",
    "    v2.Resize(size=720, max_size=1280, interpolation=InterpolationMode.BICUBIC, antialias=True),\n",
    "    v2.ConvertImageDtype(dtype=torch.float)\n",
    "])\n",
    "preprocess = ImageFolder(root=str(wf1TrainPath), transform=boost)\n",
    "\n",
    "for idx, (data, target) in enumerate(preprocess):\n",
    "    fname, label = preprocess.imgs[idx]\n",
    "    if label == 1:\n",
    "        save_image(data, fname)"
   ]
  },
  {
   "cell_type": "code",
   "execution_count": 2,
   "metadata": {},
   "outputs": [
    {
     "name": "stdout",
     "output_type": "stream",
     "text": [
      "output size:  129.0\n"
     ]
    },
    {
     "data": {
      "text/plain": [
       "(126.0, 62.0, 30.0, 14.0, 11.0, 19.0, 35.0, 67.0, 129.0)"
      ]
     },
     "execution_count": 2,
     "metadata": {},
     "output_type": "execute_result"
    }
   ],
   "source": [
    "# Next W = (W + 2*pad - Kernel)/stride + 1\n",
    "def downlayer(w,k,p,s):\n",
    "    a1 = conv(w,k,p,s)\n",
    "    a2 = conv(a1,k,p,s)\n",
    "    return conv(a2,k,0,2)\n",
    "\n",
    "def conv(w,k,p,s):\n",
    "    return (w + 2*p - k)/s + 1\n",
    "\n",
    "def convBlock(w,ksp:(int,int,int)):\n",
    "    return (w + 2*ksp[2] - ksp[0])/ksp[1] + 1\n",
    "\n",
    "def upBlock(w,ksp:(int,int,int),pad=0):\n",
    "    u = 2*(w-1) - 2*pad + 1*(2-1) + 0 + 1\n",
    "    return convBlock(u,ksp)\n",
    "\n",
    "def unpooled(w,k,p,s):\n",
    "    h = (w + 2*p - k)/s + 1\n",
    "    return (h + 2*p - k)/s + 1\n",
    "\n",
    "def backward(w,k,p,s):\n",
    "    f = 2*(w - 1) + 2 - 2*p\n",
    "    g = s*(f - 1) + k - 2*p\n",
    "    return s*(g - 1) + k - 2*p\n",
    "\n",
    "def uplayer(w,k,p,s,inner=0):\n",
    "    d = 1\n",
    "    innerkernel = 2\n",
    "    innerstride = 2\n",
    "    outpad = 0\n",
    "    # Formula for Conv = (H_in - 1)*stride - 2*p + dilation*(k-1) + outpad + 1\n",
    "    u = innerstride*(w - 1) - 2*inner + d*(innerkernel-1) + outpad + 1\n",
    "    a1 = conv(u,k,p,s)\n",
    "    return a1\n",
    "    # 148 -> 72 -> 34 -> 30\n",
    "\n",
    "def upconv(w,k,p,s):\n",
    "    return s*(w-1) - 2*p + 1*(k-1) + 0 + 1\n",
    "\n",
    "w=129\n",
    "ksp = (4,1,0)\n",
    "\n",
    "e1 = convBlock(w,ksp)\n",
    "e2 = convBlock(e1,(4,2,0))\n",
    "e3 = convBlock(e2,(4,2,0))\n",
    "e4 = convBlock(e3,(4,2,0))\n",
    "bot = convBlock(e4,ksp)\n",
    "d1 = upBlock(bot,ksp)\n",
    "d2 = upBlock(d1,ksp)\n",
    "d3 = upBlock(d2,ksp)\n",
    "d4 = upBlock(d3,ksp,1)\n",
    "print(\"output size: \", conv(d4,1,0,1))\n",
    "img_size = int(d4)\n",
    "(e1,e2,e3,e4,bot,d1,d2,d3,d4)"
   ]
  },
  {
   "attachments": {},
   "cell_type": "markdown",
   "metadata": {},
   "source": [
    "Random Idea: What if we train and evaluate using batch of very small random crops (64x64) for each image then adjust loss via bayesian or expected value? Actual set of feature needed to classify a sample can be surprisingly small."
   ]
  },
  {
   "cell_type": "code",
   "execution_count": 3,
   "metadata": {},
   "outputs": [],
   "source": [
    "p = 0.2\n",
    "mean = [0.485, 0.456, 0.406]\n",
    "std = [0.229, 0.224, 0.225]\n",
    "img_size = 128\n",
    "\n",
    "tfset = v2.Compose([\n",
    "        v2.ToImageTensor(),\n",
    "        v2.ConvertImageDtype(torch.uint8),\n",
    "        v2.RandomCrop(size=512, pad_if_needed=True, padding_mode='edge'),\n",
    "        v2.RandomChoice(transforms=[\n",
    "            v2.Grayscale(3),\n",
    "            v2.RandomRotation(45),\n",
    "            v2.RandomEqualize(p),\n",
    "        ], p=[0.3,0.3,0.3]),\n",
    "        v2.RandomHorizontalFlip(p),\n",
    "        v2.Resize(size=img_size, antialias=False),\n",
    "        v2.ConvertImageDtype(dtype=torch.float),\n",
    "])\n",
    "\n",
    "testset = v2.Compose([\n",
    "    v2.ToImageTensor(),\n",
    "    v2.ConvertImageDtype(torch.uint8),\n",
    "    v2.Resize(size=720, interpolation=InterpolationMode.BICUBIC, antialias=True),\n",
    "    v2.CenterCrop(size=512),\n",
    "    v2.Resize(size=img_size, antialias=False),\n",
    "    v2.ConvertImageDtype(dtype=torch.float),\n",
    "])\n",
    "\n",
    "wf1Train = train.ForestFireDataset(root=str(wf1TrainPath), transform=tfset)\n",
    "wf1Valid = train.ForestFireDataset(root=str(wf1ValidPath), transform=testset)\n",
    "wf1Test = train.ForestFireDataset(root=str(wf1TestPath), transform=testset)\n",
    "\n",
    "wf1Tsfire = Subset(wf1Test, [i for i, label in enumerate(wf1Test.targets) if label == 0])\n",
    "wf1Tsnofire = Subset(wf1Test, [i for i, label in enumerate(wf1Test.targets) if label == 1])\n",
    "wf1nofire = Subset(wf1Train, [i for i, label in enumerate(wf1Train.targets) if label == 1])\n",
    "\n",
    "batch_size = 12\n",
    "wf1TrLoader = DataLoader(dataset=wf1nofire, batch_size=batch_size, shuffle=True, num_workers=2)\n",
    "wf1VaLoader = DataLoader(dataset=wf1Valid, batch_size=batch_size, num_workers=2)"
   ]
  },
  {
   "cell_type": "code",
   "execution_count": 4,
   "metadata": {},
   "outputs": [
    {
     "name": "stdout",
     "output_type": "stream",
     "text": [
      "Turn on res connections\n"
     ]
    }
   ],
   "source": [
    "epochs = 10\n",
    "trainer = train.GANProject(img_size=img_size, debug=False, activation=nn.LeakyReLU(0.2), select_G=\"novelty\", select_D=\"novelty\", no_encoder=True)"
   ]
  },
  {
   "cell_type": "code",
   "execution_count": null,
   "metadata": {},
   "outputs": [
    {
     "name": "stdout",
     "output_type": "stream",
     "text": [
      "Training Set:  Counter({1: 5264, 0: 730})\n",
      "Valid Set:  Counter({1: 246, 0: 156})\n",
      "Test Set:  Counter({1: 251, 0: 159})\n"
     ]
    }
   ],
   "source": [
    "# Analysis\n",
    "print(\"Training Set: \", Counter(wf1Train.targets))\n",
    "print(\"Valid Set: \", Counter(wf1Valid.targets))\n",
    "print(\"Test Set: \", Counter(wf1Test.targets))\n",
    "\n",
    "acts = []\n",
    "for name, module in trainer.named_modules():\n",
    "    if name == 'classifier' or name == 'features':\n",
    "        continue\n",
    "    module.register_forward_hook(lambda m, input, output: acts.append(output[0].detach()))\n",
    "\n",
    "X, y_true = next(iter(wf1TrLoader))\n",
    "\n",
    "with profile(activities=[ProfilerActivity.CPU, ProfilerActivity.CUDA], profile_memory=True, with_modules=True) as prof:\n",
    "    with record_function(\"single_epoch\"):\n",
    "        trainer.singleton(X)\n",
    "\n",
    "model_param_size = sum([p.nelement() for p in trainer.parameters()])\n",
    "grad_size = model_param_size\n",
    "print(model_param_size)\n",
    "batch_mem = batch_size * 3 * 128 * 128\n",
    "opt_size = sum([p.nelement() for p in trainer.opt_Gen.param_groups[0]['params']]) + sum([p.nelement() for p in trainer.opt_Dsc.param_groups[0]['params']]) + sum([p.nelement() for p in trainer.opt_Enc.param_groups[0]['params']])\n",
    "act_size = sum([a.nelement() for a in acts])\n",
    "\n",
    "total_elements = model_param_size + grad_size + batch_mem + opt_size + act_size\n",
    "conv_mb = total_elements * 4 / 1024**2\n",
    "print(\"MB: \", conv_mb)\n",
    "print(prof.key_averages().table(row_limit=30))"
   ]
  },
  {
   "cell_type": "code",
   "execution_count": 5,
   "metadata": {},
   "outputs": [
    {
     "name": "stdout",
     "output_type": "stream",
     "text": [
      "Epoch 0 Time: 878.72s\n",
      "Train:  {'rec_loss': 0.1207040537454437, 'd_loss': 0.0032157743049609985, 'ec_loss': 0, 'feature_loss': 0}\n",
      "Validation:  {'rec_loss': 0.10842954578684337, 'd_loss': 0.0, 'ec_loss': 0, 'accuracy': 12.0}\n",
      "Epoch 1 Time: 906.22s\n",
      "Train:  {'rec_loss': 0.10119350340591013, 'd_loss': 0.0, 'ec_loss': 0, 'feature_loss': 0}\n",
      "Validation:  {'rec_loss': 0.21030907132732335, 'd_loss': 0.0, 'ec_loss': 0, 'accuracy': 12.0}\n",
      "Epoch 2 Time: 879.70s\n",
      "Train:  {'rec_loss': 0.09621476692269275, 'd_loss': 0.0, 'ec_loss': 0, 'feature_loss': 0}\n",
      "Validation:  {'rec_loss': 0.08338185210726154, 'd_loss': 0.0, 'ec_loss': 0, 'accuracy': 12.0}\n",
      "Epoch 3 Time: 854.70s\n",
      "Train:  {'rec_loss': 0.0929552791328778, 'd_loss': 0.0, 'ec_loss': 0, 'feature_loss': 0}\n",
      "Validation:  {'rec_loss': 0.07311314255443972, 'd_loss': 0.0, 'ec_loss': 0, 'accuracy': 12.0}\n",
      "Epoch 4 Time: 881.16s\n",
      "Train:  {'rec_loss': 0.09079038915663142, 'd_loss': 0.0, 'ec_loss': 0, 'feature_loss': 0}\n",
      "Validation:  {'rec_loss': 0.19869525397001808, 'd_loss': 0.0, 'ec_loss': 0, 'accuracy': 12.0}\n",
      "Epoch 5 Time: 826.38s\n",
      "Train:  {'rec_loss': 0.08853857278099175, 'd_loss': 0.0, 'ec_loss': 0, 'feature_loss': 0}\n",
      "Validation:  {'rec_loss': 0.07141792952124752, 'd_loss': 0.0, 'ec_loss': 0, 'accuracy': 12.0}\n",
      "Epoch 6 Time: 875.71s\n",
      "Train:  {'rec_loss': 0.08740500766093245, 'd_loss': 0.0, 'ec_loss': 0, 'feature_loss': 0}\n",
      "Validation:  {'rec_loss': 0.07693356186596316, 'd_loss': 0.0, 'ec_loss': 0, 'accuracy': 12.0}\n",
      "Epoch 7 Time: 881.08s\n",
      "Train:  {'rec_loss': 0.08702390896875445, 'd_loss': 0.0, 'ec_loss': 0, 'feature_loss': 0}\n",
      "Validation:  {'rec_loss': 0.07140248569089976, 'd_loss': 0.0, 'ec_loss': 0, 'accuracy': 12.0}\n",
      "Epoch 8 Time: 886.42s\n",
      "Train:  {'rec_loss': 0.08954187004761854, 'd_loss': 0.0, 'ec_loss': 0, 'feature_loss': 0}\n",
      "Validation:  {'rec_loss': 0.07231344393829801, 'd_loss': 0.0, 'ec_loss': 0, 'accuracy': 12.0}\n",
      "Epoch 9 Time: 877.24s\n",
      "Train:  {'rec_loss': 0.08669770887195158, 'd_loss': 0.0, 'ec_loss': 0, 'feature_loss': 0}\n",
      "Validation:  {'rec_loss': 0.06875443814405754, 'd_loss': 0.0, 'ec_loss': 0, 'accuracy': 12.0}\n",
      "Target metric not reached. Saving intermediate.\n"
     ]
    }
   ],
   "source": [
    "trainer.train_model(trainLoader=wf1TrLoader, validLoader=wf1VaLoader, metric='loss', epochs=epochs, eps=0.01)"
   ]
  },
  {
   "cell_type": "code",
   "execution_count": 6,
   "metadata": {},
   "outputs": [],
   "source": [
    "wf1TsLoader = DataLoader(dataset=wf1Test, batch_size=batch_size, num_workers=2, shuffle=True)\n",
    "#test_result = trainer.evaluate(wf1TsLoader)\n",
    "#print(test_result)"
   ]
  },
  {
   "cell_type": "code",
   "execution_count": 7,
   "metadata": {},
   "outputs": [],
   "source": [
    "wf1TsFireLd = DataLoader(dataset=wf1Tsfire, batch_size=batch_size, num_workers=2, shuffle=True)\n",
    "wf1TsNoFireLd = DataLoader(dataset=wf1Tsnofire, batch_size=batch_size, num_workers=2, shuffle=True)\n",
    "\n",
    "#X, y_true = next(iter(wf1TsFireLd))\n",
    "#X, y_true = next(iter(wf1TsNoFireLd))\n",
    "X, y_true = next(iter(wf1TsLoader))\n",
    "X = X.to(device)\n",
    "revert = v2.ToPILImage()\n",
    "with torch.no_grad():\n",
    "    R = trainer.generator(X)\n",
    "    R = R.to(device)\n",
    "    y_fake = trainer.discriminator(R)\n",
    "\n",
    "    if trainer.encoder is not None:\n",
    "        _,_,_,_,gd1 = trainer.generator.encoder(X)\n",
    "        _,_,_,_,ed1 = trainer.encoder(R)"
   ]
  },
  {
   "cell_type": "code",
   "execution_count": 8,
   "metadata": {},
   "outputs": [
    {
     "name": "stdout",
     "output_type": "stream",
     "text": [
      "tensor(0)\n"
     ]
    },
    {
     "data": {
      "image/png": "[encoded data removed]",
      "text/plain": [
       "<PIL.Image.Image image mode=RGB size=128x128>"
      ]
     },
     "execution_count": 8,
     "metadata": {},
     "output_type": "execute_result"
    }
   ],
   "source": [
    "i = 0\n",
    "print(y_true[i])\n",
    "revert(X[i])"
   ]
  },
  {
   "cell_type": "code",
   "execution_count": 9,
   "metadata": {},
   "outputs": [
    {
     "name": "stdout",
     "output_type": "stream",
     "text": [
      "tensor([-1567.9559], device='cuda:0') tensor(0.0621, device='cuda:0')\n"
     ]
    },
    {
     "data": {
      "image/png": "[encoded data removed]",
      "text/plain": [
       "<PIL.Image.Image image mode=RGB size=128x128>"
      ]
     },
     "execution_count": 9,
     "metadata": {},
     "output_type": "execute_result"
    }
   ],
   "source": [
    "import torch.nn.functional as F\n",
    "print(y_fake[i], F.l1_loss(R[i], X[i]))\n",
    "revert(R[i])"
   ]
  },
  {
   "cell_type": "code",
   "execution_count": 15,
   "metadata": {},
   "outputs": [
    {
     "name": "stdout",
     "output_type": "stream",
     "text": [
      "tensor([0, 1, 1, 1, 1, 1, 0, 0, 1, 1, 1, 1])\n",
      "tensor([-1567.9559, -1567.9559, -1567.9559, -1567.9559, -1567.9559, -1567.9559,\n",
      "        -1567.9559, -1567.9559, -1567.9559, -1567.9559, -1567.9559, -1567.9559],\n",
      "       device='cuda:0')\n"
     ]
    },
    {
     "data": {
      "text/plain": [
       "tensor([[-1567.9559],\n",
       "        [-1567.9559],\n",
       "        [-1567.9559],\n",
       "        [-1567.9559],\n",
       "        [-1567.9559],\n",
       "        [-1567.9559],\n",
       "        [-1567.9559],\n",
       "        [-1567.9559],\n",
       "        [-1567.9559],\n",
       "        [-1567.9559],\n",
       "        [-1567.9559],\n",
       "        [-1567.9559]], device='cuda:0')"
      ]
     },
     "execution_count": 15,
     "metadata": {},
     "output_type": "execute_result"
    }
   ],
   "source": [
    "lambda_ = [0,1,1]\n",
    "a = F.l1_loss(R, X, reduction=\"mean\")\n",
    "if trainer.encoder is not None:\n",
    "    b = F.mse_loss(gd1,ed1)\n",
    "    print(a, b)\n",
    "else:\n",
    "    b = 0\n",
    "print(y_true)\n",
    "print(y_fake.flatten())\n",
    "a*lambda_[0] + y_fake*lambda_[1] + b*lambda_[2]"
   ]
  },
  {
   "cell_type": "code",
   "execution_count": 14,
   "metadata": {},
   "outputs": [],
   "source": [
    "epoch = 20\n",
    "torch.save(trainer.generator, f\"Models/genproject_e{epoch}.pt\")\n",
    "torch.save(trainer.discriminator, f\"Models/dscproject_e{epoch}.pt\")\n",
    "torch.save(trainer.encoder, f'Models/brcproject_e{epoch}.pt')"
   ]
  },
  {
   "attachments": {},
   "cell_type": "markdown",
   "metadata": {},
   "source": [
    "# For usage with pre-trained models"
   ]
  },
  {
   "cell_type": "code",
   "execution_count": null,
   "metadata": {},
   "outputs": [],
   "source": [
    "t_epoch = 9\n",
    "gen_path = pathlib.Path(f'genproject_e{t_epoch}.pt').resolve()\n",
    "dsc_path = pathlib.Path(f'dscproject_e{t_epoch}.pt').resolve()\n",
    "brc_path = pathlib.Path(f'brcproject_e{t_epoch}.pt').resolve()\n",
    "gen = torch.load(gen_path, map_location=device)\n",
    "dsc = torch.load(dsc_path, map_location=device)\n",
    "brc = torch.load(brc_path, map_location=device)\n",
    "pretrain = train.GANProject(load_unet=gen, load_cnn=dsc, load_branch=brc, img_size=128, debug=False)"
   ]
  },
  {
   "cell_type": "code",
   "execution_count": null,
   "metadata": {},
   "outputs": [],
   "source": [
    "X, y_true = next(iter(wf1TsFireLd))\n",
    "X = X.to(device)\n",
    "revert = v2.ToPILImage()\n",
    "with torch.no_grad():\n",
    "    R,_,_,_,_ = pretrain.generator(X)\n",
    "    R = R.to(device)\n",
    "    y_fake = pretrain.discriminator(R)"
   ]
  },
  {
   "cell_type": "code",
   "execution_count": null,
   "metadata": {},
   "outputs": [
    {
     "data": {
      "image/png": "[encoded data removed]",
      "text/plain": [
       "<PIL.Image.Image image mode=RGB size=128x128>"
      ]
     },
     "execution_count": 20,
     "metadata": {},
     "output_type": "execute_result"
    }
   ],
   "source": [
    "i = 5\n",
    "print(y_true[i])\n",
    "revert(X[i])"
   ]
  },
  {
   "cell_type": "code",
   "execution_count": null,
   "metadata": {},
   "outputs": [],
   "source": [
    "print(y_fake[i])\n",
    "revert(R[i])"
   ]
  },
  {
   "cell_type": "code",
   "execution_count": null,
   "metadata": {},
   "outputs": [],
   "source": [
    "import torch.nn.functional as F\n",
    "F.l1_loss(R[i], X[i])"
   ]
  }
 ],
 "metadata": {
  "kernelspec": {
   "display_name": "Python 3",
   "language": "python",
   "name": "python3"
  },
  "language_info": {
   "codemirror_mode": {
    "name": "ipython",
    "version": 3
   },
   "file_extension": ".py",
   "mimetype": "text/x-python",
   "name": "python",
   "nbconvert_exporter": "python",
   "pygments_lexer": "ipython3",
   "version": "3.11.5"
  }
 },
 "nbformat": 4,
 "nbformat_minor": 2
}
